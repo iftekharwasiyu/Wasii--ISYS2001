{
  "nbformat": 4,
  "nbformat_minor": 0,
  "metadata": {
    "colab": {
      "provenance": [],
      "authorship_tag": "ABX9TyMVqP67ynbkUQ3Futbol5Te",
      "include_colab_link": true
    },
    "kernelspec": {
      "name": "python3",
      "display_name": "Python 3"
    },
    "language_info": {
      "name": "python"
    }
  },
  "cells": [
    {
      "cell_type": "markdown",
      "metadata": {
        "id": "view-in-github",
        "colab_type": "text"
      },
      "source": [
        "<a href=\"https://colab.research.google.com/github/iftekharwasiyu/Wasii--ISYS2001/blob/main/ISYS2001--Lab3.ipynb\" target=\"_parent\"><img src=\"https://colab.research.google.com/assets/colab-badge.svg\" alt=\"Open In Colab\"/></a>"
      ]
    },
    {
      "cell_type": "code",
      "execution_count": null,
      "metadata": {
        "id": "dBXJ-Amrk7m8"
      },
      "outputs": [],
      "source": [
        "temp = input (\"what is temperature today\")\n",
        "if temp>25%\n",
        "print (\"hot day\")\n",
        "if temp<=25%\n",
        "print (\"cold day\")\n",
        "if temp==25%\n",
        "print (\"normal day\")"
      ]
    }
  ]
}