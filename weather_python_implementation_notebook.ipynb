{
  "cells": [
    {
      "cell_type": "markdown",
      "metadata": {
        "id": "view-in-github",
        "colab_type": "text"
      },
      "source": [
        "<a href=\"https://colab.research.google.com/github/iftekharwasiyu/Wasii--ISYS2001/blob/main/weather_python_implementation_notebook.ipynb\" target=\"_parent\"><img src=\"https://colab.research.google.com/assets/colab-badge.svg\" alt=\"Open In Colab\"/></a>"
      ]
    },
    {
      "cell_type": "markdown",
      "metadata": {
        "id": "sQ-WHepbYA5g"
      },
      "source": [
        "# Weather Adventures in Python Land: Implementation Notebook\n",
        "\n",
        "In this notebook, we'll implement some of the weather-related scenarios we explored in pseudocode. Focus on using branching (if-else statements) and loops, as well as any built-in functions you've learned about."
      ]
    },
    {
      "cell_type": "markdown",
      "metadata": {
        "id": "CqoY-E2RYA5i"
      },
      "source": [
        "## Question 1: Temperature-Based Clothing Suggester\n",
        "\n",
        "Implement a program that suggests what to wear based on the temperature. Use the rules from the pseudocode exercise:\n",
        "- If it's above 25°C, suggest light clothing.\n",
        "- If it's between 15°C and 25°C, suggest a light jacket.\n",
        "- If it's below 15°C, suggest warm clothing."
      ]
    },
    {
      "cell_type": "code",
      "execution_count": 2,
      "metadata": {
        "id": "XB64wE6NYA5j",
        "outputId": "5620588f-14cb-4683-c9a2-3e61a17f0830",
        "colab": {
          "base_uri": "https://localhost:8080/"
        }
      },
      "outputs": [
        {
          "output_type": "stream",
          "name": "stdout",
          "text": [
            "Enter the current temperature in °C: 10\n",
            "Wear warm clothing.\n"
          ]
        }
      ],
      "source": [
        "temperature = float(input(\"Enter the current temperature in °C: \"))\n",
        "\n",
        "if temperature > 25:\n",
        "    print(\"Wear light clothing.\")\n",
        "elif 15 <= temperature <= 25:\n",
        "    print(\"Wear a light jacket.\")\n",
        "else:\n",
        "    print(\"Wear warm clothing.\")\n"
      ]
    },
    {
      "cell_type": "markdown",
      "metadata": {
        "id": "rWMj4GnwYA5k"
      },
      "source": [
        "## Question 2: Picnic Day Checker\n",
        "\n",
        "Create a program that checks if it's a good day for a picnic. It's a good day if it's not raining AND the temperature is between 20°C and 30°C."
      ]
    },
    {
      "cell_type": "code",
      "execution_count": 4,
      "metadata": {
        "id": "ElL3BT_MYA5k",
        "outputId": "69d56685-b5a4-4ed4-d213-ea1d7c5475ad",
        "colab": {
          "base_uri": "https://localhost:8080/"
        }
      },
      "outputs": [
        {
          "output_type": "stream",
          "name": "stdout",
          "text": [
            "Is it raining? (yes/no): yes\n",
            "Enter the current temperature in °C: 25\n",
            "It's not a good day for a picnic.\n"
          ]
        }
      ],
      "source": [
        "is_raining = input(\"Is it raining? (yes/no): \").strip().lower() == 'yes'\n",
        "\n",
        "temperature = float(input(\"Enter the current temperature in °C: \"))\n",
        "\n",
        "if not is_raining and 20 <= temperature <= 30:\n",
        "    print(\"It's a good day for a picnic!\")\n",
        "else:\n",
        "    print(\"It's not a good day for a picnic.\")\n"
      ]
    },
    {
      "cell_type": "markdown",
      "metadata": {
        "id": "LqgZAh_nYA5k"
      },
      "source": [
        "## Question 3: Rainy Days Counter\n",
        "\n",
        "Write a program that counts the number of rainy days in a week. Use a loop to check each day's weather condition."
      ]
    },
    {
      "cell_type": "code",
      "source": [
        "rainfall = [0, 5.2, 0, 0, 1.5, 0, 2.8]\n",
        "\n",
        "rainy_days_count = 0\n",
        "\n",
        "for amount in rainfall:\n",
        "    if amount > 0:\n",
        "        rainy_days_count += 1\n",
        "\n",
        "print(\"Number of rainy days in the week:\", rainy_days_count)"
      ],
      "metadata": {
        "id": "fclCPXNf_T3P",
        "outputId": "cb10018a-01b8-42da-8e19-a9a3016b7510",
        "colab": {
          "base_uri": "https://localhost:8080/"
        }
      },
      "execution_count": 6,
      "outputs": [
        {
          "output_type": "stream",
          "name": "stdout",
          "text": [
            "Number of rainy days in the week: 3\n"
          ]
        }
      ]
    },
    {
      "cell_type": "markdown",
      "metadata": {
        "id": "Jy6YYlJtYA5l"
      },
      "source": [
        "## Question 4: Average Temperature Calculator\n",
        "\n",
        "Implement a program that calculates the average temperature for a 5-day period. Use a loop to input temperatures and calculate the average."
      ]
    },
    {
      "cell_type": "code",
      "execution_count": 7,
      "metadata": {
        "id": "AZE44NCjYA5l",
        "outputId": "3a0918a2-a6cf-4dc8-fbe8-70588a08da77",
        "colab": {
          "base_uri": "https://localhost:8080/"
        }
      },
      "outputs": [
        {
          "output_type": "stream",
          "name": "stdout",
          "text": [
            "Enter the temperature for day 1 in °C: 65\n",
            "Enter the temperature for day 2 in °C: 15\n",
            "Enter the temperature for day 3 in °C: 25\n",
            "Enter the temperature for day 4 in °C: 15\n",
            "Enter the temperature for day 5 in °C: 65\n",
            "Average temperature for the 5-day period: 37.0\n"
          ]
        }
      ],
      "source": [
        "total_temperature = 0\n",
        "number_of_days = 5\n",
        "\n",
        "for day in range(number_of_days):\n",
        "    temperature = float(input(f\"Enter the temperature for day {day + 1} in °C: \"))\n",
        "    total_temperature += temperature\n",
        "\n",
        "average_temperature = total_temperature / number_of_days\n",
        "\n",
        "print(\"Average temperature for the 5-day period:\", average_temperature)\n"
      ]
    },
    {
      "cell_type": "markdown",
      "metadata": {
        "id": "tHYLlPvgYA5m"
      },
      "source": [
        "## Question 5: Heat Wave Warning System\n",
        "\n",
        "Create a program that issues a heat wave warning. A heat wave is when the temperature is above 35°C for three consecutive days. Use a loop and counting mechanism."
      ]
    },
    {
      "cell_type": "code",
      "execution_count": 8,
      "metadata": {
        "id": "dM2n1CvpYA5m",
        "outputId": "b84d66d7-5f06-45f9-dd40-f67bbf98f45b",
        "colab": {
          "base_uri": "https://localhost:8080/"
        }
      },
      "outputs": [
        {
          "output_type": "stream",
          "name": "stdout",
          "text": [
            "Heat wave warning!\n"
          ]
        }
      ],
      "source": [
        "temperatures = [32, 36, 37, 36, 34, 38, 39]\n",
        "\n",
        "consecutive_hot_days = 0\n",
        "\n",
        "for temp in temperatures:\n",
        "    if temp > 35:\n",
        "        consecutive_hot_days += 1\n",
        "        if consecutive_hot_days == 3:\n",
        "            print(\"Heat wave warning!\")\n",
        "            break\n",
        "    else:\n",
        "        consecutive_hot_days = 0\n",
        "\n",
        "if consecutive_hot_days < 3:\n",
        "    print(\"No heat wave warning.\")"
      ]
    },
    {
      "cell_type": "markdown",
      "metadata": {
        "id": "dU_BvGEqYA5m"
      },
      "source": [
        "## Reflection\n",
        "\n",
        "1. How did your Python implementations differ from your original pseudocode? Were there any challenges in translating pseudocode to Python?\n",
        "\n",
        "2. Which problem was the most challenging to implement? Why?\n",
        "\n",
        "3. If you were to ask a GenAI tutor for help with one of these implementations, what specific question would you ask?"
      ]
    },
    {
      "cell_type": "markdown",
      "metadata": {
        "id": "o1CKeDjIYA5m"
      },
      "source": [
        "Your reflections here:\n",
        "\n",
        "1. When translating my pseudocode to Python, I had to be more detailed with how the program actually works. Pseudocode is like a rough outline of what needs to happen, but Python code requires specific instructions on how to get input, how to handle data types, and how to structure loops and conditions properly. One of the challenges was making sure the code followed the correct syntax, especially with things like input handling and making sure conditions were checked in the right order. It was like going from a general idea to writing step-by-step instructions that a computer can understand exactly.\n",
        "\n",
        "\n",
        "\n",
        "\n",
        "2. The most challenging problem to implement was the Heat Wave Warning System. This problem was tricky because it involved tracking whether it was hot for three days in a row, which meant I had to carefully count consecutive hot days and make sure to stop checking once the warning was issued. It was like keeping track of how many days you’ve been eating spicy food in a row and then stopping when you reach a certain number. Making sure the program correctly counted these days and didn't make mistakes or keep checking unnecessarily added some complexity.\n",
        "\n",
        "\n",
        "\n",
        "\n",
        "\n",
        "\n",
        "\n",
        "\n",
        "3. If I were to ask a GenAI tutor for help, I would want to know how to manage and reset counters for consecutive conditions more effectively. For example, in the Heat Wave Warning System, I would ask: \"How can I better keep track of consecutive days meeting certain criteria and make sure the program stops checking when the condition is met?\" I’d be looking for advice on handling scenarios where I need to count occurrences and stop when a specific threshold is reached, to ensure the program runs smoothly without errors or unnecessary checks.\n",
        "\n",
        "\n",
        "\n",
        "\n",
        "\n",
        "\n"
      ]
    }
  ],
  "metadata": {
    "kernelspec": {
      "display_name": "Python 3",
      "language": "python",
      "name": "python3"
    },
    "language_info": {
      "codemirror_mode": {
        "name": "ipython",
        "version": 3
      },
      "file_extension": ".py",
      "mimetype": "text/x-python",
      "name": "python",
      "nbconvert_exporter": "python",
      "pygments_lexer": "ipython3",
      "version": "3.8.5"
    },
    "colab": {
      "provenance": [],
      "include_colab_link": true
    }
  },
  "nbformat": 4,
  "nbformat_minor": 0
}